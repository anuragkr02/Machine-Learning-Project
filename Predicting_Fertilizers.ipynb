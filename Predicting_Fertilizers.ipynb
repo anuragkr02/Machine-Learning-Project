{
 "cells": [
  {
   "cell_type": "code",
   "execution_count": null,
   "id": "f0fafe95",
   "metadata": {},
   "outputs": [],
   "source": [
    "import pandas as pd\n",
    "import numpy as np\n",
    "import seaborn as sns\n",
    "import matplotlib.pyplot as plt\n",
    "from sklearn.ensemble import RandomForestClassifier\n",
    "from sklearn.model_selection import train_test_split\n",
    "from sklearn.model_selection import train_test_split\n",
    "from sklearn.preprocessing import StandardScaler, LabelEncoder\n",
    "from xgboost import XGBClassifier\n",
    "from collections import Counter\n",
    "import uuid"
   ]
  },
  {
   "cell_type": "code",
   "execution_count": null,
   "id": "3804bfb9",
   "metadata": {},
   "outputs": [],
   "source": [
    "train_df=pd.read_csv(\"train.csv\")\n",
    "test_df=pd.read_csv(\"test.csv\")\n",
    "\n"
   ]
  },
  {
   "cell_type": "code",
   "execution_count": null,
   "id": "10d94bef",
   "metadata": {},
   "outputs": [],
   "source": [
    "train_df.head()"
   ]
  },
  {
   "cell_type": "code",
   "execution_count": null,
   "id": "ad5326cd",
   "metadata": {},
   "outputs": [],
   "source": [
    "train_df.isnull().sum()"
   ]
  },
  {
   "cell_type": "code",
   "execution_count": null,
   "id": "6019335b",
   "metadata": {},
   "outputs": [],
   "source": [
    "sns.heatmap(train_df.isnull(), yticklabels=False, cbar=False, cmap='viridis')\n",
    "plt.show()\n"
   ]
  },
  {
   "cell_type": "code",
   "execution_count": null,
   "id": "36ee06e8",
   "metadata": {},
   "outputs": [],
   "source": [
    "# 1. Target Class Distribution\n",
    "\n",
    "plt.figure(figsize=(10, 5))\n",
    "sns.countplot(x='Fertilizer Name', data=train_df, order=train_df['Fertilizer Name'].value_counts().index)\n",
    "plt.title('Distribution of Fertilizer Types')\n",
    "plt.xticks(rotation=45)\n",
    "plt.tight_layout()\n",
    "plt.show()"
   ]
  },
  {
   "cell_type": "code",
   "execution_count": null,
   "id": "f2a0018e",
   "metadata": {},
   "outputs": [],
   "source": [
    "# 2. Feature Correlation Heatmap\n",
    "plt.figure(figsize=(12, 8))\n",
    "corr = train_df.corr(numeric_only=True)\n",
    "sns.heatmap(corr, annot=True, fmt=\".2f\", cmap=\"coolwarm\", square=True)\n",
    "plt.title(\"Feature Correlation Heatmap\")\n",
    "plt.show()\n",
    "\n",
    "\n"
   ]
  },
  {
   "cell_type": "code",
   "execution_count": null,
   "id": "6449929c",
   "metadata": {},
   "outputs": [],
   "source": [
    "# Label Encoding Categorical Variables\n",
    "SoilType_encoder = LabelEncoder()\n",
    "CropType_encoder = LabelEncoder()\n",
    "FertilizerName_encoder = LabelEncoder()\n",
    "\n"
   ]
  },
  {
   "cell_type": "code",
   "execution_count": null,
   "id": "5867217e",
   "metadata": {},
   "outputs": [],
   "source": [
    "# Combine Train and Test for Consistent Encoding\n",
    "combined_soilType = pd.concat([train_df['Soil Type'], test_df['Soil Type']])\n",
    "combined_cropType = pd.concat([train_df['Crop Type'], test_df['Crop Type']])\n"
   ]
  },
  {
   "cell_type": "code",
   "execution_count": null,
   "id": "1fe57298",
   "metadata": {},
   "outputs": [],
   "source": [
    "#Fitting the Encoders\n",
    "SoilType_encoder.fit(combined_soilType)\n",
    "CropType_encoder.fit(combined_cropType)\n",
    "FertilizerName_encoder.fit(train_df['Fertilizer Name'])"
   ]
  },
  {
   "cell_type": "code",
   "execution_count": null,
   "id": "35117906",
   "metadata": {},
   "outputs": [],
   "source": [
    "train_df['Soil Type'] = SoilType_encoder.transform(train_df['Soil Type'])\n",
    "train_df['Crop Type'] = CropType_encoder.transform(train_df['Crop Type'])\n",
    "train_df['Fertilizer Name'] = FertilizerName_encoder.transform(train_df['Fertilizer Name'])\n",
    "test_df['Soil Type'] = SoilType_encoder.transform(test_df['Soil Type'])\n",
    "test_df['Crop Type'] = CropType_encoder.transform(test_df['Crop Type'])"
   ]
  },
  {
   "cell_type": "code",
   "execution_count": null,
   "id": "15927efb",
   "metadata": {},
   "outputs": [],
   "source": [
    "train_df.head()"
   ]
  },
  {
   "cell_type": "code",
   "execution_count": null,
   "id": "6e553392",
   "metadata": {},
   "outputs": [],
   "source": [
    "Feature_columns = ['Temparature', 'Humidity', 'Moisture', 'Soil Type', 'Crop Type', 'Nitrogen', 'Potassium', 'Phosphorous',]"
   ]
  },
  {
   "cell_type": "code",
   "execution_count": null,
   "id": "cb4decbe",
   "metadata": {},
   "outputs": [],
   "source": [
    "#Scaling Numerical Features\n",
    "scaler = StandardScaler()\n"
   ]
  },
  {
   "cell_type": "code",
   "execution_count": null,
   "id": "22237bc5",
   "metadata": {},
   "outputs": [],
   "source": [
    "numerical_columns = ['Temparature', 'Humidity', 'Moisture','Nitrogen', 'Potassium', 'Phosphorous']"
   ]
  },
  {
   "cell_type": "code",
   "execution_count": null,
   "id": "20d230f3",
   "metadata": {},
   "outputs": [],
   "source": [
    "train_df[numerical_columns] = scaler.fit_transform(train_df[numerical_columns])\n",
    "test_df[numerical_columns] = scaler.transform(test_df[numerical_columns])\n"
   ]
  },
  {
   "cell_type": "code",
   "execution_count": null,
   "id": "2a832240",
   "metadata": {},
   "outputs": [],
   "source": [
    "#Preparing Final Inputs and Targets\n",
    "X = train_df[Feature_columns].values\n",
    "y = train_df['Fertilizer Name'].values\n"
   ]
  },
  {
   "cell_type": "code",
   "execution_count": null,
   "id": "508bfa01",
   "metadata": {},
   "outputs": [],
   "source": [
    "X_test = test_df[Feature_columns].values\n",
    "test_ids = test_df['id'].values\n"
   ]
  },
  {
   "cell_type": "code",
   "execution_count": null,
   "id": "c6babae1",
   "metadata": {},
   "outputs": [],
   "source": [
    "def map_at_k(y_true, y_pred, k=3):\n",
    "    total_score = 0.0\n",
    "    for true_label, pred in zip(y_true, y_pred):\n",
    "        pred_k = pred[:k]\n",
    "        if true_label in pred_k:\n",
    "            rank = list(pred_k).index(true_label)\n",
    "            total_score += 1.0 / (rank + 1)\n",
    "    return total_score / len(y_true) if len(y_true) > 0 else 0.0\n",
    "\n"
   ]
  },
  {
   "cell_type": "code",
   "execution_count": null,
   "id": "683d41ed",
   "metadata": {},
   "outputs": [],
   "source": [
    "from sklearn.model_selection import StratifiedKFold\n",
    "from xgboost import XGBClassifier\n",
    "from sklearn.metrics import log_loss\n",
    "\n",
    "# Stratified split to preserve class distribution\n",
    "X_train, X_val, y_train, y_val = train_test_split(\n",
    "    X, y, test_size=0.2, stratify=y, random_state=42\n",
    ")\n",
    "\n",
    "# Updated XGBoost model with improved params\n",
    "model = XGBClassifier(\n",
    "    objective='multi:softprob',\n",
    "    num_class=len(FertilizerName_encoder.classes_),\n",
    "    eval_metric='mlogloss',\n",
    "    max_depth=6,               # shallower trees generalize better\n",
    "    learning_rate=0.05,        # slower learning\n",
    "    n_estimators=2000,         # more estimators, let early stopping decide when to stop\n",
    "    subsample=0.8,             # prevent overfitting\n",
    "    colsample_bytree=0.8,      # random feature subset\n",
    "    reg_alpha=1,               # L1 regularization\n",
    "    reg_lambda=1,              # L2 regularization\n",
    "    use_label_encoder=False,\n",
    "    random_state=42\n",
    ")\n",
    "\n",
    "# Train with early stopping on validation set\n",
    "model.fit(\n",
    "    X_train, y_train,\n",
    "    eval_set=[(X_val, y_val)],\n",
    "    early_stopping_rounds=50,\n",
    "    verbose=100\n",
    ")\n",
    "\n",
    "# Predict on validation\n",
    "val_probs = model.predict_proba(X_val)\n",
    "val_preds = np.argsort(-val_probs, axis=1)[:, :3]\n",
    "map_score = map_at_k(y_val, val_preds)\n",
    "print(f'Validation MAP@3: {map_score:.4f}')\n",
    "\n",
    "# Predict on test\n",
    "test_probs = model.predict_proba(X_test)\n",
    "test_preds = np.argsort(-test_probs, axis=1)[:, :3]\n",
    "\n",
    "# Convert predictions to fertilizer names\n",
    "predictions = [\n",
    "    '  '.join(FertilizerName_encoder.inverse_transform(pred))\n",
    "    for pred in test_preds\n",
    "]\n"
   ]
  },
  {
   "cell_type": "code",
   "execution_count": null,
   "id": "b7b34e32",
   "metadata": {},
   "outputs": [],
   "source": [
    "# Split data\n",
    "X_train, X_val, y_train, y_val = train_test_split(X, y, test_size=0.2, random_state=42)\n",
    "    \n",
    "# Initialize and train XGBoost model\n",
    "model = XGBClassifier(\n",
    "    objective='multi:softprob',\n",
    "    num_class=len(FertilizerName_encoder.classes_),\n",
    "    eval_metric='mlogloss',\n",
    "    max_depth=8,\n",
    "    learning_rate=0.1,\n",
    "    n_estimators=500,\n",
    "    random_state=42\n",
    ")\n",
    "\n",
    "model.fit(X_train, y_train)\n",
    "    \n",
    "# Validate model\n",
    "val_probs = model.predict_proba(X_val)\n",
    "val_preds = np.argsort(-val_probs, axis=1)[:, :3]  # Top-3 predictions\n",
    "map_score = map_at_k(y_val, val_preds)\n",
    "print(f'Validation MAP@3: {map_score:.2f}')\n",
    "    \n",
    "# Predict on test set\n",
    "test_probs = model.predict_proba(X_test)\n",
    "test_preds = np.argsort(-test_probs, axis=1)[:, :3]  # Top-3 predictions\n",
    "    \n",
    "# Convert predictions to fertilizer names\n",
    "predictions = []\n",
    "for pred in test_preds:\n",
    "    pred_fertilizers = FertilizerName_encoder.inverse_transform(pred)\n",
    "    predictions.append('  '.join(pred_fertilizers))\n",
    "\n",
    "    "
   ]
  },
  {
   "cell_type": "code",
   "execution_count": null,
   "id": "3e62a295",
   "metadata": {},
   "outputs": [],
   "source": [
    "\n",
    "# Initialize and train XGBoost model\n",
    "model = XGBClassifier(\n",
    "    objective='multi:softprob',\n",
    "    num_class=len(FertilizerName_encoder.classes_),\n",
    "    eval_metric='mlogloss',\n",
    "    max_depth=8,\n",
    "    learning_rate=0.1,\n",
    "    n_estimators=500,\n",
    "    random_state=42\n",
    ")\n",
    "model.fit(X_train, y_train)\n",
    "\n",
    "# Validate model\n",
    "val_probs = model.predict_proba(X_val)\n",
    "val_preds = np.argsort(-val_probs, axis=1)[:, :3]  # Top-3 predictions\n",
    "\n",
    "def map_at_k(y_true, y_pred, k=3):\n",
    "    score = 0.0\n",
    "    for i, preds in enumerate(y_pred):\n",
    "        if y_true[i] in preds[:k]:\n",
    "            rank = np.where(preds[:k] == y_true[i])[0][0] + 1\n",
    "            score += 1.0 / rank\n",
    "    return score / len(y_true)\n",
    "\n",
    "map_score = map_at_k(np.array(y_val), val_preds)\n",
    "print(f'Validation MAP@3: {map_score:.4f}')\n",
    "\n",
    "# Predict on test set\n",
    "test_probs = model.predict_proba(X_test)\n",
    "test_preds = np.argsort(-test_probs, axis=1)[:, :3]  # Top-3 predictions\n",
    "\n",
    "# Convert predictions to fertilizer names\n",
    "predictions = []\n",
    "for pred in test_preds:\n",
    "    pred_fertilizers = FertilizerName_encoder.inverse_transform(pred)\n",
    "    predictions.append('  '.join(pred_fertilizers))"
   ]
  },
  {
   "cell_type": "code",
   "execution_count": null,
   "id": "0be841e9",
   "metadata": {},
   "outputs": [],
   "source": [
    "# Create submission dataframe\n",
    "Submission_File= pd.DataFrame({\n",
    "    'id': test_ids,\n",
    "    'Fertilizer Name': predictions\n",
    "})"
   ]
  },
  {
   "cell_type": "code",
   "execution_count": null,
   "id": "f3c9d8c5",
   "metadata": {},
   "outputs": [],
   "source": [
    "Submission_File.head()"
   ]
  },
  {
   "cell_type": "code",
   "execution_count": null,
   "id": "d0c3dd25",
   "metadata": {},
   "outputs": [],
   "source": [
    "Submission_File.to_csv('Submission_File.csv', index=False)\n",
    "print(\"Submission file created: Submission_File.csv\")"
   ]
  }
 ],
 "metadata": {
  "kernelspec": {
   "display_name": "Python 3",
   "language": "python",
   "name": "python3"
  },
  "language_info": {
   "codemirror_mode": {
    "name": "ipython",
    "version": 3
   },
   "file_extension": ".py",
   "mimetype": "text/x-python",
   "name": "python",
   "nbconvert_exporter": "python",
   "pygments_lexer": "ipython3",
   "version": "3.11.2"
  }
 },
 "nbformat": 4,
 "nbformat_minor": 5
}
